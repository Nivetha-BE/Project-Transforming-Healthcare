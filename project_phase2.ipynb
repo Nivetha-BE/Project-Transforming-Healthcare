{
  "cells": [
    {
      "cell_type": "markdown",
      "metadata": {
        "id": "oeMMeoz6fFtN"
      },
      "source": [
        "Upload the Dataset\n"
      ]
    },
    {
      "cell_type": "code",
      "execution_count": 1,
      "metadata": {
        "colab": {
          "base_uri": "https://localhost:8080/",
          "height": 73
        },
        "id": "0UChteOTfxtg",
        "outputId": "939b9ae2-5675-47a7-ba18-6bfc5730e9d9"
      },
      "outputs": [
        {
          "output_type": "display_data",
          "data": {
            "text/plain": [
              "<IPython.core.display.HTML object>"
            ],
            "text/html": [
              "\n",
              "     <input type=\"file\" id=\"files-1869886f-6750-414a-adad-715f1467e7e0\" name=\"files[]\" multiple disabled\n",
              "        style=\"border:none\" />\n",
              "     <output id=\"result-1869886f-6750-414a-adad-715f1467e7e0\">\n",
              "      Upload widget is only available when the cell has been executed in the\n",
              "      current browser session. Please rerun this cell to enable.\n",
              "      </output>\n",
              "      <script>// Copyright 2017 Google LLC\n",
              "//\n",
              "// Licensed under the Apache License, Version 2.0 (the \"License\");\n",
              "// you may not use this file except in compliance with the License.\n",
              "// You may obtain a copy of the License at\n",
              "//\n",
              "//      http://www.apache.org/licenses/LICENSE-2.0\n",
              "//\n",
              "// Unless required by applicable law or agreed to in writing, software\n",
              "// distributed under the License is distributed on an \"AS IS\" BASIS,\n",
              "// WITHOUT WARRANTIES OR CONDITIONS OF ANY KIND, either express or implied.\n",
              "// See the License for the specific language governing permissions and\n",
              "// limitations under the License.\n",
              "\n",
              "/**\n",
              " * @fileoverview Helpers for google.colab Python module.\n",
              " */\n",
              "(function(scope) {\n",
              "function span(text, styleAttributes = {}) {\n",
              "  const element = document.createElement('span');\n",
              "  element.textContent = text;\n",
              "  for (const key of Object.keys(styleAttributes)) {\n",
              "    element.style[key] = styleAttributes[key];\n",
              "  }\n",
              "  return element;\n",
              "}\n",
              "\n",
              "// Max number of bytes which will be uploaded at a time.\n",
              "const MAX_PAYLOAD_SIZE = 100 * 1024;\n",
              "\n",
              "function _uploadFiles(inputId, outputId) {\n",
              "  const steps = uploadFilesStep(inputId, outputId);\n",
              "  const outputElement = document.getElementById(outputId);\n",
              "  // Cache steps on the outputElement to make it available for the next call\n",
              "  // to uploadFilesContinue from Python.\n",
              "  outputElement.steps = steps;\n",
              "\n",
              "  return _uploadFilesContinue(outputId);\n",
              "}\n",
              "\n",
              "// This is roughly an async generator (not supported in the browser yet),\n",
              "// where there are multiple asynchronous steps and the Python side is going\n",
              "// to poll for completion of each step.\n",
              "// This uses a Promise to block the python side on completion of each step,\n",
              "// then passes the result of the previous step as the input to the next step.\n",
              "function _uploadFilesContinue(outputId) {\n",
              "  const outputElement = document.getElementById(outputId);\n",
              "  const steps = outputElement.steps;\n",
              "\n",
              "  const next = steps.next(outputElement.lastPromiseValue);\n",
              "  return Promise.resolve(next.value.promise).then((value) => {\n",
              "    // Cache the last promise value to make it available to the next\n",
              "    // step of the generator.\n",
              "    outputElement.lastPromiseValue = value;\n",
              "    return next.value.response;\n",
              "  });\n",
              "}\n",
              "\n",
              "/**\n",
              " * Generator function which is called between each async step of the upload\n",
              " * process.\n",
              " * @param {string} inputId Element ID of the input file picker element.\n",
              " * @param {string} outputId Element ID of the output display.\n",
              " * @return {!Iterable<!Object>} Iterable of next steps.\n",
              " */\n",
              "function* uploadFilesStep(inputId, outputId) {\n",
              "  const inputElement = document.getElementById(inputId);\n",
              "  inputElement.disabled = false;\n",
              "\n",
              "  const outputElement = document.getElementById(outputId);\n",
              "  outputElement.innerHTML = '';\n",
              "\n",
              "  const pickedPromise = new Promise((resolve) => {\n",
              "    inputElement.addEventListener('change', (e) => {\n",
              "      resolve(e.target.files);\n",
              "    });\n",
              "  });\n",
              "\n",
              "  const cancel = document.createElement('button');\n",
              "  inputElement.parentElement.appendChild(cancel);\n",
              "  cancel.textContent = 'Cancel upload';\n",
              "  const cancelPromise = new Promise((resolve) => {\n",
              "    cancel.onclick = () => {\n",
              "      resolve(null);\n",
              "    };\n",
              "  });\n",
              "\n",
              "  // Wait for the user to pick the files.\n",
              "  const files = yield {\n",
              "    promise: Promise.race([pickedPromise, cancelPromise]),\n",
              "    response: {\n",
              "      action: 'starting',\n",
              "    }\n",
              "  };\n",
              "\n",
              "  cancel.remove();\n",
              "\n",
              "  // Disable the input element since further picks are not allowed.\n",
              "  inputElement.disabled = true;\n",
              "\n",
              "  if (!files) {\n",
              "    return {\n",
              "      response: {\n",
              "        action: 'complete',\n",
              "      }\n",
              "    };\n",
              "  }\n",
              "\n",
              "  for (const file of files) {\n",
              "    const li = document.createElement('li');\n",
              "    li.append(span(file.name, {fontWeight: 'bold'}));\n",
              "    li.append(span(\n",
              "        `(${file.type || 'n/a'}) - ${file.size} bytes, ` +\n",
              "        `last modified: ${\n",
              "            file.lastModifiedDate ? file.lastModifiedDate.toLocaleDateString() :\n",
              "                                    'n/a'} - `));\n",
              "    const percent = span('0% done');\n",
              "    li.appendChild(percent);\n",
              "\n",
              "    outputElement.appendChild(li);\n",
              "\n",
              "    const fileDataPromise = new Promise((resolve) => {\n",
              "      const reader = new FileReader();\n",
              "      reader.onload = (e) => {\n",
              "        resolve(e.target.result);\n",
              "      };\n",
              "      reader.readAsArrayBuffer(file);\n",
              "    });\n",
              "    // Wait for the data to be ready.\n",
              "    let fileData = yield {\n",
              "      promise: fileDataPromise,\n",
              "      response: {\n",
              "        action: 'continue',\n",
              "      }\n",
              "    };\n",
              "\n",
              "    // Use a chunked sending to avoid message size limits. See b/62115660.\n",
              "    let position = 0;\n",
              "    do {\n",
              "      const length = Math.min(fileData.byteLength - position, MAX_PAYLOAD_SIZE);\n",
              "      const chunk = new Uint8Array(fileData, position, length);\n",
              "      position += length;\n",
              "\n",
              "      const base64 = btoa(String.fromCharCode.apply(null, chunk));\n",
              "      yield {\n",
              "        response: {\n",
              "          action: 'append',\n",
              "          file: file.name,\n",
              "          data: base64,\n",
              "        },\n",
              "      };\n",
              "\n",
              "      let percentDone = fileData.byteLength === 0 ?\n",
              "          100 :\n",
              "          Math.round((position / fileData.byteLength) * 100);\n",
              "      percent.textContent = `${percentDone}% done`;\n",
              "\n",
              "    } while (position < fileData.byteLength);\n",
              "  }\n",
              "\n",
              "  // All done.\n",
              "  yield {\n",
              "    response: {\n",
              "      action: 'complete',\n",
              "    }\n",
              "  };\n",
              "}\n",
              "\n",
              "scope.google = scope.google || {};\n",
              "scope.google.colab = scope.google.colab || {};\n",
              "scope.google.colab._files = {\n",
              "  _uploadFiles,\n",
              "  _uploadFilesContinue,\n",
              "};\n",
              "})(self);\n",
              "</script> "
            ]
          },
          "metadata": {}
        },
        {
          "output_type": "stream",
          "name": "stdout",
          "text": [
            "Saving 21-chatbots-evaluating-their-impact-on-university.ipynb to 21-chatbots-evaluating-their-impact-on-university.ipynb\n"
          ]
        }
      ],
      "source": [
        "from google.colab import files\n",
        "uploaded=files.upload()"
      ]
    },
    {
      "cell_type": "markdown",
      "metadata": {
        "id": "UtoJRw5uhATj"
      },
      "source": [
        "Load the Dataset"
      ]
    },
    {
      "cell_type": "code",
      "source": [
        "import pandas as pd\n",
        "\n",
        "# Simulated healthcare dataset (in-memory, no CSV)\n",
        "data = [\n",
        "    {\"PatientID\": 1, \"Age\": 34, \"Gender\": \"F\", \"Diagnosis\": \"Diabetes\", \"Treatment\": \"Insulin\"},\n",
        "    {\"PatientID\": 2, \"Age\": 45, \"Gender\": \"M\", \"Diagnosis\": \"Hypertension\", \"Treatment\": \"Beta Blockers\"},\n",
        "    {\"PatientID\": 3, \"Age\": 29, \"Gender\": \"F\", \"Diagnosis\": \"Asthma\", \"Treatment\": \"Inhaler\"},\n",
        "    {\"PatientID\": 4, \"Age\": 54, \"Gender\": \"M\", \"Diagnosis\": \"Heart Disease\", \"Treatment\": \"Statins\"},\n",
        "    {\"PatientID\": 5, \"Age\": 63, \"Gender\": \"F\", \"Diagnosis\": \"Arthritis\", \"Treatment\": \"NSAIDs\"},\n",
        "]\n",
        "\n",
        "# Create a DataFrame\n",
        "df = pd.DataFrame(data)\n",
        "\n",
        "# Show the dataset\n",
        "print(\"Healthcare Dataset:\\n\")\n",
        "print(df)\n",
        "\n",
        "# Example transformation: Add a Risk Score based on age\n",
        "df[\"RiskScore\"] = df[\"Age\"].apply(lambda x: \"High\" if x > 50 else \"Moderate\" if x > 40 else \"Low\")\n",
        "\n",
        "# Show transformed dataset\n",
        "print(\"\\nTransformed Dataset with Risk Scores:\\n\")\n",
        "print(df)\n"
      ],
      "metadata": {
        "colab": {
          "base_uri": "https://localhost:8080/"
        },
        "id": "1g73NQbo8Pqo",
        "outputId": "62a194ea-e8ab-423b-b03d-e345ade2a74c"
      },
      "execution_count": 2,
      "outputs": [
        {
          "output_type": "stream",
          "name": "stdout",
          "text": [
            "Healthcare Dataset:\n",
            "\n",
            "   PatientID  Age Gender      Diagnosis      Treatment\n",
            "0          1   34      F       Diabetes        Insulin\n",
            "1          2   45      M   Hypertension  Beta Blockers\n",
            "2          3   29      F         Asthma        Inhaler\n",
            "3          4   54      M  Heart Disease        Statins\n",
            "4          5   63      F      Arthritis         NSAIDs\n",
            "\n",
            "Transformed Dataset with Risk Scores:\n",
            "\n",
            "   PatientID  Age Gender      Diagnosis      Treatment RiskScore\n",
            "0          1   34      F       Diabetes        Insulin       Low\n",
            "1          2   45      M   Hypertension  Beta Blockers  Moderate\n",
            "2          3   29      F         Asthma        Inhaler       Low\n",
            "3          4   54      M  Heart Disease        Statins      High\n",
            "4          5   63      F      Arthritis         NSAIDs      High\n"
          ]
        }
      ]
    },
    {
      "cell_type": "markdown",
      "metadata": {
        "id": "kILJJF1njG6Q"
      },
      "source": [
        "Data Exploration"
      ]
    },
    {
      "cell_type": "code",
      "source": [
        "# Display first few rows\n",
        "df.head()"
      ],
      "metadata": {
        "colab": {
          "base_uri": "https://localhost:8080/",
          "height": 206
        },
        "id": "ZI8cuoEg8oT5",
        "outputId": "0ba92efa-2ade-430b-e944-93a35fc6e86e"
      },
      "execution_count": 3,
      "outputs": [
        {
          "output_type": "execute_result",
          "data": {
            "text/plain": [
              "   PatientID  Age Gender      Diagnosis      Treatment RiskScore\n",
              "0          1   34      F       Diabetes        Insulin       Low\n",
              "1          2   45      M   Hypertension  Beta Blockers  Moderate\n",
              "2          3   29      F         Asthma        Inhaler       Low\n",
              "3          4   54      M  Heart Disease        Statins      High\n",
              "4          5   63      F      Arthritis         NSAIDs      High"
            ],
            "text/html": [
              "\n",
              "  <div id=\"df-c643c573-0b7f-4b79-911a-3799c40911a2\" class=\"colab-df-container\">\n",
              "    <div>\n",
              "<style scoped>\n",
              "    .dataframe tbody tr th:only-of-type {\n",
              "        vertical-align: middle;\n",
              "    }\n",
              "\n",
              "    .dataframe tbody tr th {\n",
              "        vertical-align: top;\n",
              "    }\n",
              "\n",
              "    .dataframe thead th {\n",
              "        text-align: right;\n",
              "    }\n",
              "</style>\n",
              "<table border=\"1\" class=\"dataframe\">\n",
              "  <thead>\n",
              "    <tr style=\"text-align: right;\">\n",
              "      <th></th>\n",
              "      <th>PatientID</th>\n",
              "      <th>Age</th>\n",
              "      <th>Gender</th>\n",
              "      <th>Diagnosis</th>\n",
              "      <th>Treatment</th>\n",
              "      <th>RiskScore</th>\n",
              "    </tr>\n",
              "  </thead>\n",
              "  <tbody>\n",
              "    <tr>\n",
              "      <th>0</th>\n",
              "      <td>1</td>\n",
              "      <td>34</td>\n",
              "      <td>F</td>\n",
              "      <td>Diabetes</td>\n",
              "      <td>Insulin</td>\n",
              "      <td>Low</td>\n",
              "    </tr>\n",
              "    <tr>\n",
              "      <th>1</th>\n",
              "      <td>2</td>\n",
              "      <td>45</td>\n",
              "      <td>M</td>\n",
              "      <td>Hypertension</td>\n",
              "      <td>Beta Blockers</td>\n",
              "      <td>Moderate</td>\n",
              "    </tr>\n",
              "    <tr>\n",
              "      <th>2</th>\n",
              "      <td>3</td>\n",
              "      <td>29</td>\n",
              "      <td>F</td>\n",
              "      <td>Asthma</td>\n",
              "      <td>Inhaler</td>\n",
              "      <td>Low</td>\n",
              "    </tr>\n",
              "    <tr>\n",
              "      <th>3</th>\n",
              "      <td>4</td>\n",
              "      <td>54</td>\n",
              "      <td>M</td>\n",
              "      <td>Heart Disease</td>\n",
              "      <td>Statins</td>\n",
              "      <td>High</td>\n",
              "    </tr>\n",
              "    <tr>\n",
              "      <th>4</th>\n",
              "      <td>5</td>\n",
              "      <td>63</td>\n",
              "      <td>F</td>\n",
              "      <td>Arthritis</td>\n",
              "      <td>NSAIDs</td>\n",
              "      <td>High</td>\n",
              "    </tr>\n",
              "  </tbody>\n",
              "</table>\n",
              "</div>\n",
              "    <div class=\"colab-df-buttons\">\n",
              "\n",
              "  <div class=\"colab-df-container\">\n",
              "    <button class=\"colab-df-convert\" onclick=\"convertToInteractive('df-c643c573-0b7f-4b79-911a-3799c40911a2')\"\n",
              "            title=\"Convert this dataframe to an interactive table.\"\n",
              "            style=\"display:none;\">\n",
              "\n",
              "  <svg xmlns=\"http://www.w3.org/2000/svg\" height=\"24px\" viewBox=\"0 -960 960 960\">\n",
              "    <path d=\"M120-120v-720h720v720H120Zm60-500h600v-160H180v160Zm220 220h160v-160H400v160Zm0 220h160v-160H400v160ZM180-400h160v-160H180v160Zm440 0h160v-160H620v160ZM180-180h160v-160H180v160Zm440 0h160v-160H620v160Z\"/>\n",
              "  </svg>\n",
              "    </button>\n",
              "\n",
              "  <style>\n",
              "    .colab-df-container {\n",
              "      display:flex;\n",
              "      gap: 12px;\n",
              "    }\n",
              "\n",
              "    .colab-df-convert {\n",
              "      background-color: #E8F0FE;\n",
              "      border: none;\n",
              "      border-radius: 50%;\n",
              "      cursor: pointer;\n",
              "      display: none;\n",
              "      fill: #1967D2;\n",
              "      height: 32px;\n",
              "      padding: 0 0 0 0;\n",
              "      width: 32px;\n",
              "    }\n",
              "\n",
              "    .colab-df-convert:hover {\n",
              "      background-color: #E2EBFA;\n",
              "      box-shadow: 0px 1px 2px rgba(60, 64, 67, 0.3), 0px 1px 3px 1px rgba(60, 64, 67, 0.15);\n",
              "      fill: #174EA6;\n",
              "    }\n",
              "\n",
              "    .colab-df-buttons div {\n",
              "      margin-bottom: 4px;\n",
              "    }\n",
              "\n",
              "    [theme=dark] .colab-df-convert {\n",
              "      background-color: #3B4455;\n",
              "      fill: #D2E3FC;\n",
              "    }\n",
              "\n",
              "    [theme=dark] .colab-df-convert:hover {\n",
              "      background-color: #434B5C;\n",
              "      box-shadow: 0px 1px 3px 1px rgba(0, 0, 0, 0.15);\n",
              "      filter: drop-shadow(0px 1px 2px rgba(0, 0, 0, 0.3));\n",
              "      fill: #FFFFFF;\n",
              "    }\n",
              "  </style>\n",
              "\n",
              "    <script>\n",
              "      const buttonEl =\n",
              "        document.querySelector('#df-c643c573-0b7f-4b79-911a-3799c40911a2 button.colab-df-convert');\n",
              "      buttonEl.style.display =\n",
              "        google.colab.kernel.accessAllowed ? 'block' : 'none';\n",
              "\n",
              "      async function convertToInteractive(key) {\n",
              "        const element = document.querySelector('#df-c643c573-0b7f-4b79-911a-3799c40911a2');\n",
              "        const dataTable =\n",
              "          await google.colab.kernel.invokeFunction('convertToInteractive',\n",
              "                                                    [key], {});\n",
              "        if (!dataTable) return;\n",
              "\n",
              "        const docLinkHtml = 'Like what you see? Visit the ' +\n",
              "          '<a target=\"_blank\" href=https://colab.research.google.com/notebooks/data_table.ipynb>data table notebook</a>'\n",
              "          + ' to learn more about interactive tables.';\n",
              "        element.innerHTML = '';\n",
              "        dataTable['output_type'] = 'display_data';\n",
              "        await google.colab.output.renderOutput(dataTable, element);\n",
              "        const docLink = document.createElement('div');\n",
              "        docLink.innerHTML = docLinkHtml;\n",
              "        element.appendChild(docLink);\n",
              "      }\n",
              "    </script>\n",
              "  </div>\n",
              "\n",
              "\n",
              "    <div id=\"df-84ea89aa-8f1c-40f4-bbc0-e40cff4e7443\">\n",
              "      <button class=\"colab-df-quickchart\" onclick=\"quickchart('df-84ea89aa-8f1c-40f4-bbc0-e40cff4e7443')\"\n",
              "                title=\"Suggest charts\"\n",
              "                style=\"display:none;\">\n",
              "\n",
              "<svg xmlns=\"http://www.w3.org/2000/svg\" height=\"24px\"viewBox=\"0 0 24 24\"\n",
              "     width=\"24px\">\n",
              "    <g>\n",
              "        <path d=\"M19 3H5c-1.1 0-2 .9-2 2v14c0 1.1.9 2 2 2h14c1.1 0 2-.9 2-2V5c0-1.1-.9-2-2-2zM9 17H7v-7h2v7zm4 0h-2V7h2v10zm4 0h-2v-4h2v4z\"/>\n",
              "    </g>\n",
              "</svg>\n",
              "      </button>\n",
              "\n",
              "<style>\n",
              "  .colab-df-quickchart {\n",
              "      --bg-color: #E8F0FE;\n",
              "      --fill-color: #1967D2;\n",
              "      --hover-bg-color: #E2EBFA;\n",
              "      --hover-fill-color: #174EA6;\n",
              "      --disabled-fill-color: #AAA;\n",
              "      --disabled-bg-color: #DDD;\n",
              "  }\n",
              "\n",
              "  [theme=dark] .colab-df-quickchart {\n",
              "      --bg-color: #3B4455;\n",
              "      --fill-color: #D2E3FC;\n",
              "      --hover-bg-color: #434B5C;\n",
              "      --hover-fill-color: #FFFFFF;\n",
              "      --disabled-bg-color: #3B4455;\n",
              "      --disabled-fill-color: #666;\n",
              "  }\n",
              "\n",
              "  .colab-df-quickchart {\n",
              "    background-color: var(--bg-color);\n",
              "    border: none;\n",
              "    border-radius: 50%;\n",
              "    cursor: pointer;\n",
              "    display: none;\n",
              "    fill: var(--fill-color);\n",
              "    height: 32px;\n",
              "    padding: 0;\n",
              "    width: 32px;\n",
              "  }\n",
              "\n",
              "  .colab-df-quickchart:hover {\n",
              "    background-color: var(--hover-bg-color);\n",
              "    box-shadow: 0 1px 2px rgba(60, 64, 67, 0.3), 0 1px 3px 1px rgba(60, 64, 67, 0.15);\n",
              "    fill: var(--button-hover-fill-color);\n",
              "  }\n",
              "\n",
              "  .colab-df-quickchart-complete:disabled,\n",
              "  .colab-df-quickchart-complete:disabled:hover {\n",
              "    background-color: var(--disabled-bg-color);\n",
              "    fill: var(--disabled-fill-color);\n",
              "    box-shadow: none;\n",
              "  }\n",
              "\n",
              "  .colab-df-spinner {\n",
              "    border: 2px solid var(--fill-color);\n",
              "    border-color: transparent;\n",
              "    border-bottom-color: var(--fill-color);\n",
              "    animation:\n",
              "      spin 1s steps(1) infinite;\n",
              "  }\n",
              "\n",
              "  @keyframes spin {\n",
              "    0% {\n",
              "      border-color: transparent;\n",
              "      border-bottom-color: var(--fill-color);\n",
              "      border-left-color: var(--fill-color);\n",
              "    }\n",
              "    20% {\n",
              "      border-color: transparent;\n",
              "      border-left-color: var(--fill-color);\n",
              "      border-top-color: var(--fill-color);\n",
              "    }\n",
              "    30% {\n",
              "      border-color: transparent;\n",
              "      border-left-color: var(--fill-color);\n",
              "      border-top-color: var(--fill-color);\n",
              "      border-right-color: var(--fill-color);\n",
              "    }\n",
              "    40% {\n",
              "      border-color: transparent;\n",
              "      border-right-color: var(--fill-color);\n",
              "      border-top-color: var(--fill-color);\n",
              "    }\n",
              "    60% {\n",
              "      border-color: transparent;\n",
              "      border-right-color: var(--fill-color);\n",
              "    }\n",
              "    80% {\n",
              "      border-color: transparent;\n",
              "      border-right-color: var(--fill-color);\n",
              "      border-bottom-color: var(--fill-color);\n",
              "    }\n",
              "    90% {\n",
              "      border-color: transparent;\n",
              "      border-bottom-color: var(--fill-color);\n",
              "    }\n",
              "  }\n",
              "</style>\n",
              "\n",
              "      <script>\n",
              "        async function quickchart(key) {\n",
              "          const quickchartButtonEl =\n",
              "            document.querySelector('#' + key + ' button');\n",
              "          quickchartButtonEl.disabled = true;  // To prevent multiple clicks.\n",
              "          quickchartButtonEl.classList.add('colab-df-spinner');\n",
              "          try {\n",
              "            const charts = await google.colab.kernel.invokeFunction(\n",
              "                'suggestCharts', [key], {});\n",
              "          } catch (error) {\n",
              "            console.error('Error during call to suggestCharts:', error);\n",
              "          }\n",
              "          quickchartButtonEl.classList.remove('colab-df-spinner');\n",
              "          quickchartButtonEl.classList.add('colab-df-quickchart-complete');\n",
              "        }\n",
              "        (() => {\n",
              "          let quickchartButtonEl =\n",
              "            document.querySelector('#df-84ea89aa-8f1c-40f4-bbc0-e40cff4e7443 button');\n",
              "          quickchartButtonEl.style.display =\n",
              "            google.colab.kernel.accessAllowed ? 'block' : 'none';\n",
              "        })();\n",
              "      </script>\n",
              "    </div>\n",
              "\n",
              "    </div>\n",
              "  </div>\n"
            ],
            "application/vnd.google.colaboratory.intrinsic+json": {
              "type": "dataframe",
              "variable_name": "df",
              "summary": "{\n  \"name\": \"df\",\n  \"rows\": 5,\n  \"fields\": [\n    {\n      \"column\": \"PatientID\",\n      \"properties\": {\n        \"dtype\": \"number\",\n        \"std\": 1,\n        \"min\": 1,\n        \"max\": 5,\n        \"num_unique_values\": 5,\n        \"samples\": [\n          2,\n          5,\n          3\n        ],\n        \"semantic_type\": \"\",\n        \"description\": \"\"\n      }\n    },\n    {\n      \"column\": \"Age\",\n      \"properties\": {\n        \"dtype\": \"number\",\n        \"std\": 13,\n        \"min\": 29,\n        \"max\": 63,\n        \"num_unique_values\": 5,\n        \"samples\": [\n          45,\n          63,\n          29\n        ],\n        \"semantic_type\": \"\",\n        \"description\": \"\"\n      }\n    },\n    {\n      \"column\": \"Gender\",\n      \"properties\": {\n        \"dtype\": \"category\",\n        \"num_unique_values\": 2,\n        \"samples\": [\n          \"M\",\n          \"F\"\n        ],\n        \"semantic_type\": \"\",\n        \"description\": \"\"\n      }\n    },\n    {\n      \"column\": \"Diagnosis\",\n      \"properties\": {\n        \"dtype\": \"string\",\n        \"num_unique_values\": 5,\n        \"samples\": [\n          \"Hypertension\",\n          \"Arthritis\"\n        ],\n        \"semantic_type\": \"\",\n        \"description\": \"\"\n      }\n    },\n    {\n      \"column\": \"Treatment\",\n      \"properties\": {\n        \"dtype\": \"string\",\n        \"num_unique_values\": 5,\n        \"samples\": [\n          \"Beta Blockers\",\n          \"NSAIDs\"\n        ],\n        \"semantic_type\": \"\",\n        \"description\": \"\"\n      }\n    },\n    {\n      \"column\": \"RiskScore\",\n      \"properties\": {\n        \"dtype\": \"string\",\n        \"num_unique_values\": 3,\n        \"samples\": [\n          \"Low\",\n          \"Moderate\"\n        ],\n        \"semantic_type\": \"\",\n        \"description\": \"\"\n      }\n    }\n  ]\n}"
            }
          },
          "metadata": {},
          "execution_count": 3
        }
      ]
    },
    {
      "cell_type": "markdown",
      "metadata": {
        "id": "l1WhOgd3kZDK"
      },
      "source": [
        "Check for Missing Values and Duplicates"
      ]
    },
    {
      "cell_type": "code",
      "execution_count": 4,
      "metadata": {
        "colab": {
          "base_uri": "https://localhost:8080/"
        },
        "id": "QOFsxshBkgHp",
        "outputId": "dda1d68b-22a6-4921-df4c-3aed2b98ce16"
      },
      "outputs": [
        {
          "output_type": "stream",
          "name": "stdout",
          "text": [
            "PatientID    0\n",
            "Age          0\n",
            "Gender       0\n",
            "Diagnosis    0\n",
            "Treatment    0\n",
            "RiskScore    0\n",
            "dtype: int64\n"
          ]
        }
      ],
      "source": [
        "print(df.isnull().sum())"
      ]
    },
    {
      "cell_type": "code",
      "execution_count": 5,
      "metadata": {
        "colab": {
          "base_uri": "https://localhost:8080/"
        },
        "id": "TbGeoHUkkrWA",
        "outputId": "10293db9-fae0-4d02-ff39-ef76a38aec70"
      },
      "outputs": [
        {
          "output_type": "stream",
          "name": "stdout",
          "text": [
            "Duplicate rows: 0\n"
          ]
        }
      ],
      "source": [
        "print(\"Duplicate rows:\",df.duplicated().sum())"
      ]
    },
    {
      "cell_type": "markdown",
      "metadata": {
        "id": "MDHovBUgk7uH"
      },
      "source": [
        "Visualize a Few Features"
      ]
    },
    {
      "cell_type": "code",
      "source": [
        "import pandas as pd\n",
        "import matplotlib.pyplot as plt\n",
        "import seaborn as sns\n",
        "\n",
        "# Create in-memory healthcare dataset\n",
        "data = [\n",
        "    {\"PatientID\": 1, \"Age\": 34, \"Gender\": \"F\", \"Diagnosis\": \"Diabetes\", \"Treatment\": \"Insulin\"},\n",
        "    {\"PatientID\": 2, \"Age\": 45, \"Gender\": \"M\", \"Diagnosis\": \"Hypertension\", \"Treatment\": \"Beta Blockers\"},\n",
        "    {\"PatientID\": 3, \"Age\": 29, \"Gender\": \"F\", \"Diagnosis\": \"Asthma\", \"Treatment\": \"Inhaler\"},\n",
        "    {\"PatientID\": 4, \"Age\": 54, \"Gender\": \"M\", \"Diagnosis\": \"Heart Disease\", \"Treatment\": \"Statins\"},\n",
        "    {\"PatientID\": 5, \"Age\": 63, \"Gender\": \"F\", \"Diagnosis\": \"Arthritis\", \"Treatment\": \"NSAIDs\"},\n",
        "]\n",
        "\n",
        "# Create a DataFrame\n",
        "df = pd.DataFrame(data)\n",
        "\n",
        "# Add a simple Risk Score based on Age\n",
        "df[\"RiskScore\"] = df[\"Age\"].apply(lambda x: \"High\" if x > 50 else \"Moderate\" if x > 40 else \"Low\")\n",
        "\n",
        "# Set Seaborn style\n",
        "sns.set(style=\"whitegrid\")\n",
        "\n",
        "# 1. Bar plot: Age by Patient\n",
        "plt.figure(figsize=(8, 4))\n",
        "sns.barplot(x=\"PatientID\", y=\"Age\", data=df, palette=\"Blues_d\")\n",
        "plt.title(\"Patient Ages\")\n",
        "plt.xlabel(\"Patient ID\")\n",
        "plt.ylabel(\"Age\")\n",
        "plt.tight_layout()\n",
        "plt.show()\n",
        "\n",
        "# 2. Count plot: Gender Distribution\n",
        "plt.figure(figsize=(6, 4))\n",
        "sns.countplot(x=\"Gender\", data=df, palette=\"Set2\")\n",
        "plt.title(\"Gender Distribution\")\n",
        "plt.tight_layout()\n",
        "plt.show()\n",
        "\n",
        "# 3. Diagnosis Distribution\n",
        "plt.figure(figsize=(8, 4))\n",
        "sns.countplot(x=\"Diagnosis\", data=df, palette=\"Set3\")\n",
        "plt.title(\"Diagnosis Distribution\")\n",
        "plt.xticks(rotation=30)\n",
        "plt.tight_layout()\n",
        "plt.show()\n"
      ],
      "metadata": {
        "colab": {
          "base_uri": "https://localhost:8080/",
          "height": 1000
        },
        "id": "dI31ilSX9DVA",
        "outputId": "7a685dd3-4f60-4db9-c34d-5a563385ba47"
      },
      "execution_count": 7,
      "outputs": [
        {
          "output_type": "stream",
          "name": "stderr",
          "text": [
            "<ipython-input-7-48b85aa1c301>:25: FutureWarning: \n",
            "\n",
            "Passing `palette` without assigning `hue` is deprecated and will be removed in v0.14.0. Assign the `x` variable to `hue` and set `legend=False` for the same effect.\n",
            "\n",
            "  sns.barplot(x=\"PatientID\", y=\"Age\", data=df, palette=\"Blues_d\")\n"
          ]
        },
        {
          "output_type": "display_data",
          "data": {
            "text/plain": [
              "<Figure size 800x400 with 1 Axes>"
            ],
            "image/png": "[encoded data removed]"
          },
          "metadata": {}
        },
        {
          "output_type": "stream",
          "name": "stderr",
          "text": [
            "<ipython-input-7-48b85aa1c301>:34: FutureWarning: \n",
            "\n",
            "Passing `palette` without assigning `hue` is deprecated and will be removed in v0.14.0. Assign the `x` variable to `hue` and set `legend=False` for the same effect.\n",
            "\n",
            "  sns.countplot(x=\"Gender\", data=df, palette=\"Set2\")\n"
          ]
        },
        {
          "output_type": "display_data",
          "data": {
            "text/plain": [
              "<Figure size 600x400 with 1 Axes>"
            ],
            "image/png": "[encoded data removed]"
          },
          "metadata": {}
        },
        {
          "output_type": "stream",
          "name": "stderr",
          "text": [
            "<ipython-input-7-48b85aa1c301>:41: FutureWarning: \n",
            "\n",
            "Passing `palette` without assigning `hue` is deprecated and will be removed in v0.14.0. Assign the `x` variable to `hue` and set `legend=False` for the same effect.\n",
            "\n",
            "  sns.countplot(x=\"Diagnosis\", data=df, palette=\"Set3\")\n"
          ]
        },
        {
          "output_type": "display_data",
          "data": {
            "text/plain": [
              "<Figure size 800x400 with 1 Axes>"
            ],
            "image/png": "[encoded data removed]"
          },
          "metadata": {}
        }
      ]
    },
    {
      "cell_type": "markdown",
      "source": [
        "Identify Target and Features"
      ],
      "metadata": {
        "id": "b60ROJ3_9Fvf"
      }
    },
    {
      "cell_type": "code",
      "source": [
        "import pandas as pd\n",
        "from sklearn.model_selection import train_test_split\n",
        "\n",
        "# Simulated in-memory healthcare data\n",
        "data = [\n",
        "    {\"PatientID\": 1, \"Age\": 34, \"Gender\": \"F\", \"Diagnosis\": \"Diabetes\", \"Treatment\": \"Insulin\"},\n",
        "    {\"PatientID\": 2, \"Age\": 45, \"Gender\": \"M\", \"Diagnosis\": \"Hypertension\", \"Treatment\": \"Beta Blockers\"},\n",
        "    {\"PatientID\": 3, \"Age\": 29, \"Gender\": \"F\", \"Diagnosis\": \"Asthma\", \"Treatment\": \"Inhaler\"},\n",
        "    {\"PatientID\": 4, \"Age\": 54, \"Gender\": \"M\", \"Diagnosis\": \"Heart Disease\", \"Treatment\": \"Statins\"},\n",
        "    {\"PatientID\": 5, \"Age\": 63, \"Gender\": \"F\", \"Diagnosis\": \"Arthritis\", \"Treatment\": \"NSAIDs\"},\n",
        "]\n",
        "\n",
        "# Create DataFrame\n",
        "df = pd.DataFrame(data)\n",
        "\n",
        "# Define a target variable: we will predict Treatment\n",
        "target = \"Treatment\"\n",
        "\n",
        "# Define feature variables: exclude PatientID and the target\n",
        "features = [\"Age\", \"Gender\", \"Diagnosis\"]\n",
        "\n",
        "# Encode categorical features (Gender, Diagnosis)\n",
        "df_encoded = pd.get_dummies(df[features])\n",
        "\n",
        "# Encode target using Label Encoding (for simplicity)\n",
        "from sklearn.preprocessing import LabelEncoder\n",
        "le = LabelEncoder()\n",
        "df[\"TreatmentEncoded\"] = le.fit_transform(df[target])\n",
        "\n",
        "# Split the data\n",
        "X = df_encoded\n",
        "y = df[\"TreatmentEncoded\"]\n",
        "X_train, X_test, y_train, y_test = train_test_split(X, y, test_size=0.2, random_state=42)\n",
        "\n",
        "# Output\n",
        "print(\"Feature Columns:\\n\", X.columns.tolist())\n",
        "print(\"\\nTarget Classes:\", list(le.classes_))\n",
        "print(\"\\nTraining Data:\\n\", X_train)\n"
      ],
      "metadata": {
        "colab": {
          "base_uri": "https://localhost:8080/"
        },
        "id": "4ddQ7gSY9Q_A",
        "outputId": "d5e1ff05-9b07-44dd-f3fa-861a77ab4482"
      },
      "execution_count": 8,
      "outputs": [
        {
          "output_type": "stream",
          "name": "stdout",
          "text": [
            "Feature Columns:\n",
            " ['Age', 'Gender_F', 'Gender_M', 'Diagnosis_Arthritis', 'Diagnosis_Asthma', 'Diagnosis_Diabetes', 'Diagnosis_Heart Disease', 'Diagnosis_Hypertension']\n",
            "\n",
            "Target Classes: ['Beta Blockers', 'Inhaler', 'Insulin', 'NSAIDs', 'Statins']\n",
            "\n",
            "Training Data:\n",
            "    Age  Gender_F  Gender_M  Diagnosis_Arthritis  Diagnosis_Asthma  \\\n",
            "4   63      True     False                 True             False   \n",
            "2   29      True     False                False              True   \n",
            "0   34      True     False                False             False   \n",
            "3   54     False      True                False             False   \n",
            "\n",
            "   Diagnosis_Diabetes  Diagnosis_Heart Disease  Diagnosis_Hypertension  \n",
            "4               False                    False                   False  \n",
            "2               False                    False                   False  \n",
            "0                True                    False                   False  \n",
            "3               False                     True                   False  \n"
          ]
        }
      ]
    },
    {
      "cell_type": "markdown",
      "source": [
        "Convert Categorical Columns to Numerical"
      ],
      "metadata": {
        "id": "tdIQdKMg9ThB"
      }
    },
    {
      "cell_type": "code",
      "source": [
        "# Identify categorical columns\n",
        "categorical_cols = df.select_dtypes(include=['object']).columns\n",
        "print(\"Categorical Columns:\", categorical_cols.tolist())"
      ],
      "metadata": {
        "colab": {
          "base_uri": "https://localhost:8080/"
        },
        "id": "RqD6lz219WVU",
        "outputId": "a479da72-6ebb-47c3-e4bf-81c1c2a981d1"
      },
      "execution_count": 9,
      "outputs": [
        {
          "output_type": "stream",
          "name": "stdout",
          "text": [
            "Categorical Columns: ['Gender', 'Diagnosis', 'Treatment']\n"
          ]
        }
      ]
    },
    {
      "cell_type": "markdown",
      "source": [
        "One-Hot Encoding"
      ],
      "metadata": {
        "id": "h7nl_1tt9boA"
      }
    },
    {
      "cell_type": "code",
      "source": [
        "df_encoded = pd.get_dummies(df, drop_first=True)"
      ],
      "metadata": {
        "id": "UEjE00349cfR"
      },
      "execution_count": 10,
      "outputs": []
    },
    {
      "cell_type": "markdown",
      "source": [
        "Feature Scaling"
      ],
      "metadata": {
        "id": "4EZSkovQ9gLo"
      }
    },
    {
      "cell_type": "code",
      "source": [
        "import pandas as pd\n",
        "from sklearn.preprocessing import StandardScaler\n",
        "from sklearn.model_selection import train_test_split\n",
        "\n",
        "# Simulated in-memory healthcare dataset\n",
        "data = [\n",
        "    {\"PatientID\": 1, \"Age\": 34, \"Gender\": \"F\", \"Diagnosis\": \"Diabetes\", \"Treatment\": \"Insulin\"},\n",
        "    {\"PatientID\": 2, \"Age\": 45, \"Gender\": \"M\", \"Diagnosis\": \"Hypertension\", \"Treatment\": \"Beta Blockers\"},\n",
        "    {\"PatientID\": 3, \"Age\": 29, \"Gender\": \"F\", \"Diagnosis\": \"Asthma\", \"Treatment\": \"Inhaler\"},\n",
        "    {\"PatientID\": 4, \"Age\": 54, \"Gender\": \"M\", \"Diagnosis\": \"Heart Disease\", \"Treatment\": \"Statins\"},\n",
        "    {\"PatientID\": 5, \"Age\": 63, \"Gender\": \"F\", \"Diagnosis\": \"Arthritis\", \"Treatment\": \"NSAIDs\"},\n",
        "]\n",
        "\n",
        "# Create DataFrame\n",
        "df = pd.DataFrame(data)\n",
        "\n",
        "# Define features and target\n",
        "features = [\"Age\", \"Gender\", \"Diagnosis\"]\n",
        "target = \"Treatment\"\n",
        "\n",
        "# One-hot encode categorical features\n",
        "X = pd.get_dummies(df[features])\n",
        "\n",
        "# Label encode target\n",
        "from sklearn.preprocessing import LabelEncoder\n",
        "le = LabelEncoder()\n",
        "y = le.fit_transform(df[target])\n",
        "\n",
        "# Split the data\n",
        "X_train, X_test, y_train, y_test = train_test_split(X, y, test_size=0.2, random_state=42)\n",
        "\n",
        "# Apply Standard Scaling to the features\n",
        "scaler = StandardScaler()\n",
        "X_train_scaled = scaler.fit_transform(X_train)\n",
        "X_test_scaled = scaler.transform(X_test)\n",
        "\n",
        "# Output\n",
        "print(\"Original Features (Train):\\n\", X_train.head())\n",
        "print(\"\\nScaled Features (Train):\\n\", X_train_scaled)\n"
      ],
      "metadata": {
        "colab": {
          "base_uri": "https://localhost:8080/"
        },
        "id": "rOMwZQbD9jA5",
        "outputId": "7679ebfd-ce2b-44ff-b716-a5397dcd7f45"
      },
      "execution_count": 11,
      "outputs": [
        {
          "output_type": "stream",
          "name": "stdout",
          "text": [
            "Original Features (Train):\n",
            "    Age  Gender_F  Gender_M  Diagnosis_Arthritis  Diagnosis_Asthma  \\\n",
            "4   63      True     False                 True             False   \n",
            "2   29      True     False                False              True   \n",
            "0   34      True     False                False             False   \n",
            "3   54     False      True                False             False   \n",
            "\n",
            "   Diagnosis_Diabetes  Diagnosis_Heart Disease  Diagnosis_Hypertension  \n",
            "4               False                    False                   False  \n",
            "2               False                    False                   False  \n",
            "0                True                    False                   False  \n",
            "3               False                     True                   False  \n",
            "\n",
            "Scaled Features (Train):\n",
            " [[ 1.28735737  0.57735027 -0.57735027  1.73205081 -0.57735027 -0.57735027\n",
            "  -0.57735027  0.        ]\n",
            " [-1.14431766  0.57735027 -0.57735027 -0.57735027  1.73205081 -0.57735027\n",
            "  -0.57735027  0.        ]\n",
            " [-0.78671839  0.57735027 -0.57735027 -0.57735027 -0.57735027  1.73205081\n",
            "  -0.57735027  0.        ]\n",
            " [ 0.64367869 -1.73205081  1.73205081 -0.57735027 -0.57735027 -0.57735027\n",
            "   1.73205081  0.        ]]\n"
          ]
        }
      ]
    },
    {
      "cell_type": "markdown",
      "source": [
        "Train-Test Split"
      ],
      "metadata": {
        "id": "XBm-5Rqx9s5v"
      }
    },
    {
      "cell_type": "code",
      "source": [
        "import pandas as pd\n",
        "from sklearn.model_selection import train_test_split\n",
        "from sklearn.preprocessing import LabelEncoder\n",
        "\n",
        "# Simulated in-memory healthcare dataset\n",
        "data = [\n",
        "    {\"PatientID\": 1, \"Age\": 34, \"Gender\": \"F\", \"Diagnosis\": \"Diabetes\", \"Treatment\": \"Insulin\"},\n",
        "    {\"PatientID\": 2, \"Age\": 45, \"Gender\": \"M\", \"Diagnosis\": \"Hypertension\", \"Treatment\": \"Beta Blockers\"},\n",
        "    {\"PatientID\": 3, \"Age\": 29, \"Gender\": \"F\", \"Diagnosis\": \"Asthma\", \"Treatment\": \"Inhaler\"},\n",
        "    {\"PatientID\": 4, \"Age\": 54, \"Gender\": \"M\", \"Diagnosis\": \"Heart Disease\", \"Treatment\": \"Statins\"},\n",
        "    {\"PatientID\": 5, \"Age\": 63, \"Gender\": \"F\", \"Diagnosis\": \"Arthritis\", \"Treatment\": \"NSAIDs\"},\n",
        "]\n",
        "\n",
        "# Load into DataFrame\n",
        "df = pd.DataFrame(data)\n",
        "\n",
        "# Features and target\n",
        "features = [\"Age\", \"Gender\", \"Diagnosis\"]\n",
        "target = \"Treatment\"\n",
        "\n",
        "# Encode categorical features\n",
        "X = pd.get_dummies(df[features])\n",
        "\n",
        "# Encode the target variable\n",
        "le = LabelEncoder()\n",
        "y = le.fit_transform(df[target])\n",
        "\n",
        "# Perform Train-Test Split\n",
        "X_train, X_test, y_train, y_test = train_test_split(\n",
        "    X, y, test_size=0.4, random_state=42  # 60% training, 40% testing\n",
        ")\n",
        "\n",
        "# Output\n",
        "print(\"Train Features:\\n\", X_train)\n",
        "print(\"\\nTest Features:\\n\", X_test)\n",
        "print(\"\\nTrain Labels:\\n\", y_train)\n",
        "print(\"\\nTest Labels:\\n\", y_test)\n"
      ],
      "metadata": {
        "colab": {
          "base_uri": "https://localhost:8080/"
        },
        "id": "7O4hvT1J90wR",
        "outputId": "534bf9f6-7bdd-497d-b17f-b1e36979c638"
      },
      "execution_count": 13,
      "outputs": [
        {
          "output_type": "stream",
          "name": "stdout",
          "text": [
            "Train Features:\n",
            "    Age  Gender_F  Gender_M  Diagnosis_Arthritis  Diagnosis_Asthma  \\\n",
            "2   29      True     False                False              True   \n",
            "0   34      True     False                False             False   \n",
            "3   54     False      True                False             False   \n",
            "\n",
            "   Diagnosis_Diabetes  Diagnosis_Heart Disease  Diagnosis_Hypertension  \n",
            "2               False                    False                   False  \n",
            "0                True                    False                   False  \n",
            "3               False                     True                   False  \n",
            "\n",
            "Test Features:\n",
            "    Age  Gender_F  Gender_M  Diagnosis_Arthritis  Diagnosis_Asthma  \\\n",
            "1   45     False      True                False             False   \n",
            "4   63      True     False                 True             False   \n",
            "\n",
            "   Diagnosis_Diabetes  Diagnosis_Heart Disease  Diagnosis_Hypertension  \n",
            "1               False                    False                    True  \n",
            "4               False                    False                   False  \n",
            "\n",
            "Train Labels:\n",
            " [1 2 4]\n",
            "\n",
            "Test Labels:\n",
            " [0 3]\n"
          ]
        }
      ]
    },
    {
      "cell_type": "markdown",
      "source": [
        "Model Building"
      ],
      "metadata": {
        "id": "lsf7bsbF99n5"
      }
    },
    {
      "cell_type": "code",
      "source": [
        "# Train model\n",
        "model = LinearRegression()\n",
        "model.fit(X_train, y_train)\n",
        "# Predict\n",
        "y_pred = model.predict(X_test)"
      ],
      "metadata": {
        "id": "0tDxuqaT-AX5"
      },
      "execution_count": 14,
      "outputs": []
    },
    {
      "cell_type": "markdown",
      "source": [
        "Evaluation"
      ],
      "metadata": {
        "id": "Q-WmrcrR-oq_"
      }
    },
    {
      "cell_type": "code",
      "source": [
        "# Evaluate\n",
        "print(\"MSE:\", mean_squared_error(y_test, y_pred))\n",
        "print(\"R2 Score:\", r2_score(y_test, y_pred))"
      ],
      "metadata": {
        "colab": {
          "base_uri": "https://localhost:8080/"
        },
        "id": "CekQbSl5-wBP",
        "outputId": "ec63a897-0b30-4ea4-fd7e-d1312e937e63"
      },
      "execution_count": 15,
      "outputs": [
        {
          "output_type": "stream",
          "name": "stdout",
          "text": [
            "MSE: 6.8250710555886105\n",
            "R2 Score: -2.033364913594938\n"
          ]
        }
      ]
    },
    {
      "cell_type": "markdown",
      "source": [
        "Make Predictions from New Input"
      ],
      "metadata": {
        "id": "PeKrnfNs-3fQ"
      }
    },
    {
      "cell_type": "code",
      "source": [
        "# Sample input (replace values with any other valid values from the original dataset)\n",
        "new_student = {\n",
        "'school': 'GP', # 'GP' or 'MS'\n",
        "'sex': 'F', # 'F' or 'M'\n",
        "'age': 17, # Integer\n",
        "'address': 'U', # 'U' or 'R'\n",
        "'famsize': 'GT3', # 'LE3' or 'GT3'\n",
        "'Pstatus': 'A', # 'A' or 'T'\n",
        "'Medu': 4, # 0 to 4\n",
        "'Fedu': 3, # 0 to 4\n",
        "'Mjob': 'health', # 'teacher', 'health', etc.\n",
        "'Fjob': 'services',\n",
        "'reason': 'course',\n",
        "'guardian': 'mother',\n",
        "'traveltime': 2,\n",
        "'studytime': 3,\n",
        "'failures': 0,\n",
        "'schoolsup': 'yes',\n",
        "'famsup': 'no',\n",
        "'paid': 'no',\n",
        "'activities': 'yes',\n",
        "'nursery': 'yes',\n",
        "'higher': 'yes',\n",
        "'internet': 'yes',\n",
        "'romantic': 'no',\n",
        "'famrel': 4,\n",
        "'freetime': 3,\n",
        "'goout': 3,\n",
        "'Dalc': 1,\n",
        "'Walc': 1,\n",
        "'health': 4,\n",
        "'absences': 2,\n",
        "'G1': 14,\n",
        "'G2': 15\n",
        "}"
      ],
      "metadata": {
        "id": "27tGUW29-7Ao"
      },
      "execution_count": 16,
      "outputs": []
    },
    {
      "cell_type": "markdown",
      "source": [
        "Convert to DataFrame and Encode"
      ],
      "metadata": {
        "id": "JyfESL5a_F_4"
      }
    },
    {
      "cell_type": "code",
      "source": [
        "import pandas as pd\n",
        "from sklearn.preprocessing import LabelEncoder\n",
        "\n",
        "# Step 1: In-memory healthcare dataset\n",
        "data = [\n",
        "    {\"PatientID\": 1, \"Age\": 34, \"Gender\": \"F\", \"Diagnosis\": \"Diabetes\", \"Treatment\": \"Insulin\"},\n",
        "    {\"PatientID\": 2, \"Age\": 45, \"Gender\": \"M\", \"Diagnosis\": \"Hypertension\", \"Treatment\": \"Beta Blockers\"},\n",
        "    {\"PatientID\": 3, \"Age\": 29, \"Gender\": \"F\", \"Diagnosis\": \"Asthma\", \"Treatment\": \"Inhaler\"},\n",
        "    {\"PatientID\": 4, \"Age\": 54, \"Gender\": \"M\", \"Diagnosis\": \"Heart Disease\", \"Treatment\": \"Statins\"},\n",
        "    {\"PatientID\": 5, \"Age\": 63, \"Gender\": \"F\", \"Diagnosis\": \"Arthritis\", \"Treatment\": \"NSAIDs\"},\n",
        "]\n",
        "\n",
        "# Step 2: Convert to DataFrame\n",
        "df = pd.DataFrame(data)\n",
        "\n",
        "# Step 3: Select features and target\n",
        "features = [\"Age\", \"Gender\", \"Diagnosis\"]\n",
        "target = \"Treatment\"\n",
        "\n",
        "# Step 4: Encode categorical features (one-hot)\n",
        "X = pd.get_dummies(df[features])\n",
        "\n",
        "# Step 5: Encode target using LabelEncoder\n",
        "le = LabelEncoder()\n",
        "y = le.fit_transform(df[target])\n",
        "\n",
        "# Output\n",
        "print(\"Encoded Features (X):\\n\", X)\n",
        "print(\"\\nEncoded Target (y):\", y)\n",
        "print(\"\\nTarget Labels Mapping:\", dict(zip(le.classes_, le.transform(le.classes_))))\n"
      ],
      "metadata": {
        "colab": {
          "base_uri": "https://localhost:8080/"
        },
        "id": "nni68lTs_Sur",
        "outputId": "039c6d8e-32a3-4834-948f-39c276094b07"
      },
      "execution_count": 17,
      "outputs": [
        {
          "output_type": "stream",
          "name": "stdout",
          "text": [
            "Encoded Features (X):\n",
            "    Age  Gender_F  Gender_M  Diagnosis_Arthritis  Diagnosis_Asthma  \\\n",
            "0   34      True     False                False             False   \n",
            "1   45     False      True                False             False   \n",
            "2   29      True     False                False              True   \n",
            "3   54     False      True                False             False   \n",
            "4   63      True     False                 True             False   \n",
            "\n",
            "   Diagnosis_Diabetes  Diagnosis_Heart Disease  Diagnosis_Hypertension  \n",
            "0                True                    False                   False  \n",
            "1               False                    False                    True  \n",
            "2               False                    False                   False  \n",
            "3               False                     True                   False  \n",
            "4               False                    False                   False  \n",
            "\n",
            "Encoded Target (y): [2 0 1 4 3]\n",
            "\n",
            "Target Labels Mapping: {'Beta Blockers': np.int64(0), 'Inhaler': np.int64(1), 'Insulin': np.int64(2), 'NSAIDs': np.int64(3), 'Statins': np.int64(4)}\n"
          ]
        }
      ]
    },
    {
      "cell_type": "markdown",
      "source": [
        "Predict the Final Grade"
      ],
      "metadata": {
        "id": "QEQv5L9W_UzZ"
      }
    },
    {
      "cell_type": "code",
      "source": [
        "import pandas as pd\n",
        "from sklearn.linear_model import LinearRegression\n",
        "from sklearn.model_selection import train_test_split\n",
        "from sklearn.preprocessing import LabelEncoder\n",
        "\n",
        "# Step 1: Simulated in-memory healthcare data\n",
        "data = [\n",
        "    {\"Age\": 34, \"Gender\": \"F\", \"Diagnosis\": \"Diabetes\", \"Treatment\": \"Insulin\", \"HealthScore\": 75},\n",
        "    {\"Age\": 45, \"Gender\": \"M\", \"Diagnosis\": \"Hypertension\", \"Treatment\": \"Beta Blockers\", \"HealthScore\": 68},\n",
        "    {\"Age\": 29, \"Gender\": \"F\", \"Diagnosis\": \"Asthma\", \"Treatment\": \"Inhaler\", \"HealthScore\": 82},\n",
        "    {\"Age\": 54, \"Gender\": \"M\", \"Diagnosis\": \"Heart Disease\", \"Treatment\": \"Statins\", \"HealthScore\": 60},\n",
        "    {\"Age\": 63, \"Gender\": \"F\", \"Diagnosis\": \"Arthritis\", \"Treatment\": \"NSAIDs\", \"HealthScore\": 55},\n",
        "]\n",
        "\n",
        "# Step 2: Convert to DataFrame\n",
        "df = pd.DataFrame(data)\n",
        "\n",
        "# Step 3: Feature encoding\n",
        "X = pd.get_dummies(df[[\"Age\", \"Gender\", \"Diagnosis\", \"Treatment\"]])\n",
        "\n",
        "# Step 4: Target variable\n",
        "y = df[\"HealthScore\"]\n",
        "\n",
        "# Step 5: Split the data\n",
        "X_train, X_test, y_train, y_test = train_test_split(X, y, test_size=0.4, random_state=42)\n",
        "\n",
        "# Step 6: Train the model\n",
        "model = LinearRegression()\n",
        "model.fit(X_train, y_train)\n",
        "\n",
        "# Step 7: Predict\n",
        "predictions = model.predict(X_test)\n",
        "\n",
        "# Output\n",
        "print(\"Test Features:\\n\", X_test)\n",
        "print(\"\\nPredicted Health Scores (Final Grade):\", predictions)\n",
        "print(\"\\nActual Health Scores:\", y_test.values)\n"
      ],
      "metadata": {
        "colab": {
          "base_uri": "https://localhost:8080/"
        },
        "id": "cW0JcY9p_XLB",
        "outputId": "f76a65a2-d811-4064-e331-1ded94ec41a4"
      },
      "execution_count": 18,
      "outputs": [
        {
          "output_type": "stream",
          "name": "stdout",
          "text": [
            "Test Features:\n",
            "    Age  Gender_F  Gender_M  Diagnosis_Arthritis  Diagnosis_Asthma  \\\n",
            "1   45     False      True                False             False   \n",
            "4   63      True     False                 True             False   \n",
            "\n",
            "   Diagnosis_Diabetes  Diagnosis_Heart Disease  Diagnosis_Hypertension  \\\n",
            "1               False                    False                    True   \n",
            "4               False                    False                   False   \n",
            "\n",
            "   Treatment_Beta Blockers  Treatment_Inhaler  Treatment_Insulin  \\\n",
            "1                     True              False              False   \n",
            "4                    False              False              False   \n",
            "\n",
            "   Treatment_NSAIDs  Treatment_Statins  \n",
            "1             False              False  \n",
            "4              True              False  \n",
            "\n",
            "Predicted Health Scores (Final Grade): [67.4        51.90599078]\n",
            "\n",
            "Actual Health Scores: [68 55]\n"
          ]
        }
      ]
    },
    {
      "cell_type": "markdown",
      "source": [
        "Deployment-Building an Interactive App"
      ],
      "metadata": {
        "id": "UK8_KyOJ_qdw"
      }
    },
    {
      "cell_type": "code",
      "source": [
        "!pip uninstall streamlit\n",
        "!pip install streamlit"
      ],
      "metadata": {
        "colab": {
          "base_uri": "https://localhost:8080/"
        },
        "id": "3MC1eGjrAinJ",
        "outputId": "7957629a-a0e2-4226-a0df-b0dab319b02a"
      },
      "execution_count": 22,
      "outputs": [
        {
          "output_type": "stream",
          "name": "stdout",
          "text": [
            "\u001b[33mWARNING: Skipping streamlit as it is not installed.\u001b[0m\u001b[33m\n",
            "\u001b[0mCollecting streamlit\n",
            "  Downloading streamlit-1.45.0-py3-none-any.whl.metadata (8.9 kB)\n",
            "Requirement already satisfied: altair<6,>=4.0 in /usr/local/lib/python3.11/dist-packages (from streamlit) (5.5.0)\n",
            "Requirement already satisfied: blinker<2,>=1.5.0 in /usr/local/lib/python3.11/dist-packages (from streamlit) (1.9.0)\n",
            "Requirement already satisfied: cachetools<6,>=4.0 in /usr/local/lib/python3.11/dist-packages (from streamlit) (5.5.2)\n",
            "Requirement already satisfied: click<9,>=7.0 in /usr/local/lib/python3.11/dist-packages (from streamlit) (8.1.8)\n",
            "Requirement already satisfied: numpy<3,>=1.23 in /usr/local/lib/python3.11/dist-packages (from streamlit) (2.0.2)\n",
            "Requirement already satisfied: packaging<25,>=20 in /usr/local/lib/python3.11/dist-packages (from streamlit) (24.2)\n",
            "Requirement already satisfied: pandas<3,>=1.4.0 in /usr/local/lib/python3.11/dist-packages (from streamlit) (2.2.2)\n",
            "Requirement already satisfied: pillow<12,>=7.1.0 in /usr/local/lib/python3.11/dist-packages (from streamlit) (11.2.1)\n",
            "Requirement already satisfied: protobuf<7,>=3.20 in /usr/local/lib/python3.11/dist-packages (from streamlit) (5.29.4)\n",
            "Requirement already satisfied: pyarrow>=7.0 in /usr/local/lib/python3.11/dist-packages (from streamlit) (18.1.0)\n",
            "Requirement already satisfied: requests<3,>=2.27 in /usr/local/lib/python3.11/dist-packages (from streamlit) (2.32.3)\n",
            "Requirement already satisfied: tenacity<10,>=8.1.0 in /usr/local/lib/python3.11/dist-packages (from streamlit) (9.1.2)\n",
            "Requirement already satisfied: toml<2,>=0.10.1 in /usr/local/lib/python3.11/dist-packages (from streamlit) (0.10.2)\n",
            "Requirement already satisfied: typing-extensions<5,>=4.4.0 in /usr/local/lib/python3.11/dist-packages (from streamlit) (4.13.2)\n",
            "Collecting watchdog<7,>=2.1.5 (from streamlit)\n",
            "  Downloading watchdog-6.0.0-py3-none-manylinux2014_x86_64.whl.metadata (44 kB)\n",
            "\u001b[2K     \u001b[90m━━━━━━━━━━━━━━━━━━━━━━━━━━━━━━━━━━━━━━━━\u001b[0m \u001b[32m44.3/44.3 kB\u001b[0m \u001b[31m1.5 MB/s\u001b[0m eta \u001b[36m0:00:00\u001b[0m\n",
            "\u001b[?25hRequirement already satisfied: gitpython!=3.1.19,<4,>=3.0.7 in /usr/local/lib/python3.11/dist-packages (from streamlit) (3.1.44)\n",
            "Collecting pydeck<1,>=0.8.0b4 (from streamlit)\n",
            "  Downloading pydeck-0.9.1-py2.py3-none-any.whl.metadata (4.1 kB)\n",
            "Requirement already satisfied: tornado<7,>=6.0.3 in /usr/local/lib/python3.11/dist-packages (from streamlit) (6.4.2)\n",
            "Requirement already satisfied: jinja2 in /usr/local/lib/python3.11/dist-packages (from altair<6,>=4.0->streamlit) (3.1.6)\n",
            "Requirement already satisfied: jsonschema>=3.0 in /usr/local/lib/python3.11/dist-packages (from altair<6,>=4.0->streamlit) (4.23.0)\n",
            "Requirement already satisfied: narwhals>=1.14.2 in /usr/local/lib/python3.11/dist-packages (from altair<6,>=4.0->streamlit) (1.37.1)\n",
            "Requirement already satisfied: gitdb<5,>=4.0.1 in /usr/local/lib/python3.11/dist-packages (from gitpython!=3.1.19,<4,>=3.0.7->streamlit) (4.0.12)\n",
            "Requirement already satisfied: python-dateutil>=2.8.2 in /usr/local/lib/python3.11/dist-packages (from pandas<3,>=1.4.0->streamlit) (2.9.0.post0)\n",
            "Requirement already satisfied: pytz>=2020.1 in /usr/local/lib/python3.11/dist-packages (from pandas<3,>=1.4.0->streamlit) (2025.2)\n",
            "Requirement already satisfied: tzdata>=2022.7 in /usr/local/lib/python3.11/dist-packages (from pandas<3,>=1.4.0->streamlit) (2025.2)\n",
            "Requirement already satisfied: charset-normalizer<4,>=2 in /usr/local/lib/python3.11/dist-packages (from requests<3,>=2.27->streamlit) (3.4.1)\n",
            "Requirement already satisfied: idna<4,>=2.5 in /usr/local/lib/python3.11/dist-packages (from requests<3,>=2.27->streamlit) (3.10)\n",
            "Requirement already satisfied: urllib3<3,>=1.21.1 in /usr/local/lib/python3.11/dist-packages (from requests<3,>=2.27->streamlit) (2.4.0)\n",
            "Requirement already satisfied: certifi>=2017.4.17 in /usr/local/lib/python3.11/dist-packages (from requests<3,>=2.27->streamlit) (2025.4.26)\n",
            "Requirement already satisfied: smmap<6,>=3.0.1 in /usr/local/lib/python3.11/dist-packages (from gitdb<5,>=4.0.1->gitpython!=3.1.19,<4,>=3.0.7->streamlit) (5.0.2)\n",
            "Requirement already satisfied: MarkupSafe>=2.0 in /usr/local/lib/python3.11/dist-packages (from jinja2->altair<6,>=4.0->streamlit) (3.0.2)\n",
            "Requirement already satisfied: attrs>=22.2.0 in /usr/local/lib/python3.11/dist-packages (from jsonschema>=3.0->altair<6,>=4.0->streamlit) (25.3.0)\n",
            "Requirement already satisfied: jsonschema-specifications>=2023.03.6 in /usr/local/lib/python3.11/dist-packages (from jsonschema>=3.0->altair<6,>=4.0->streamlit) (2025.4.1)\n",
            "Requirement already satisfied: referencing>=0.28.4 in /usr/local/lib/python3.11/dist-packages (from jsonschema>=3.0->altair<6,>=4.0->streamlit) (0.36.2)\n",
            "Requirement already satisfied: rpds-py>=0.7.1 in /usr/local/lib/python3.11/dist-packages (from jsonschema>=3.0->altair<6,>=4.0->streamlit) (0.24.0)\n",
            "Requirement already satisfied: six>=1.5 in /usr/local/lib/python3.11/dist-packages (from python-dateutil>=2.8.2->pandas<3,>=1.4.0->streamlit) (1.17.0)\n",
            "Downloading streamlit-1.45.0-py3-none-any.whl (9.9 MB)\n",
            "\u001b[2K   \u001b[90m━━━━━━━━━━━━━━━━━━━━━━━━━━━━━━━━━━━━━━━━\u001b[0m \u001b[32m9.9/9.9 MB\u001b[0m \u001b[31m59.8 MB/s\u001b[0m eta \u001b[36m0:00:00\u001b[0m\n",
            "\u001b[?25hDownloading pydeck-0.9.1-py2.py3-none-any.whl (6.9 MB)\n",
            "\u001b[2K   \u001b[90m━━━━━━━━━━━━━━━━━━━━━━━━━━━━━━━━━━━━━━━━\u001b[0m \u001b[32m6.9/6.9 MB\u001b[0m \u001b[31m73.6 MB/s\u001b[0m eta \u001b[36m0:00:00\u001b[0m\n",
            "\u001b[?25hDownloading watchdog-6.0.0-py3-none-manylinux2014_x86_64.whl (79 kB)\n",
            "\u001b[2K   \u001b[90m━━━━━━━━━━━━━━━━━━━━━━━━━━━━━━━━━━━━━━━━\u001b[0m \u001b[32m79.1/79.1 kB\u001b[0m \u001b[31m5.0 MB/s\u001b[0m eta \u001b[36m0:00:00\u001b[0m\n",
            "\u001b[?25hInstalling collected packages: watchdog, pydeck, streamlit\n",
            "Successfully installed pydeck-0.9.1 streamlit-1.45.0 watchdog-6.0.0\n"
          ]
        }
      ]
    },
    {
      "cell_type": "markdown",
      "source": [
        "Create a Prediction Function"
      ],
      "metadata": {
        "id": "WcEz1xDJAv2h"
      }
    },
    {
      "cell_type": "code",
      "source": [
        "import pandas as pd\n",
        "from sklearn.linear_model import LinearRegression\n",
        "from sklearn.preprocessing import LabelEncoder\n",
        "\n",
        "# In-memory healthcare data\n",
        "data = [\n",
        "    {\"Age\": 34, \"Gender\": \"F\", \"Diagnosis\": \"Diabetes\", \"Treatment\": \"Insulin\", \"HealthScore\": 75},\n",
        "    {\"Age\": 45, \"Gender\": \"M\", \"Diagnosis\": \"Hypertension\", \"Treatment\": \"Beta Blockers\", \"HealthScore\": 68},\n",
        "    {\"Age\": 29, \"Gender\": \"F\", \"Diagnosis\": \"Asthma\", \"Treatment\": \"Inhaler\", \"HealthScore\": 82},\n",
        "    {\"Age\": 54, \"Gender\": \"M\", \"Diagnosis\": \"Heart Disease\", \"Treatment\": \"Statins\", \"HealthScore\": 60},\n",
        "    {\"Age\": 63, \"Gender\": \"F\", \"Diagnosis\": \"Arthritis\", \"Treatment\": \"NSAIDs\", \"HealthScore\": 55},\n",
        "]\n",
        "\n",
        "# Step 1: Convert data to DataFrame\n",
        "df = pd.DataFrame(data)\n",
        "\n",
        "# Step 2: Feature Encoding (One-Hot Encoding)\n",
        "X = pd.get_dummies(df[[\"Age\", \"Gender\", \"Diagnosis\", \"Treatment\"]])\n",
        "\n",
        "# Step 3: Target variable (HealthScore)\n",
        "y = df[\"HealthScore\"]\n",
        "\n",
        "# Step 4: Train a Linear Regression model\n",
        "model = LinearRegression()\n",
        "model.fit(X, y)\n",
        "\n",
        "# Step 5: Create the prediction function\n",
        "def predict_health_score(age, gender, diagnosis, treatment):\n",
        "    \"\"\"\n",
        "    Predict the HealthScore (similar to final grade) for a given patient.\n",
        "\n",
        "    Args:\n",
        "    - age (int): Age of the patient\n",
        "    - gender (str): Gender of the patient (\"F\" or \"M\")\n",
        "    - diagnosis (str): Diagnosis of the patient (e.g., \"Diabetes\", \"Hypertension\")\n",
        "    - treatment (str): Treatment prescribed (e.g., \"Insulin\", \"Beta Blockers\")\n",
        "\n",
        "    Returns:\n",
        "    - float: Predicted HealthScore (Final Grade)\n",
        "    \"\"\"\n",
        "    # Prepare the input data for prediction\n",
        "    input_data = pd.DataFrame({\n",
        "        \"Age\": [age],\n",
        "        \"Gender\": [gender],\n",
        "        \"Diagnosis\": [diagnosis],\n",
        "        \"Treatment\": [treatment]\n",
        "    })\n",
        "\n",
        "    # Step 6: One-hot encode the input data\n",
        "    input_encoded = pd.get_dummies(input_data)\n",
        "\n",
        "    # Align the input with the training features\n",
        "    input_encoded = input_encoded.reindex(columns=X.columns, fill_value=0)\n",
        "\n",
        "    # Step 7: Make the prediction using the trained model\n",
        "    predicted_score = model.predict(input_encoded)\n",
        "\n",
        "    return predicted_score[0]\n",
        "\n",
        "# Example usage of the prediction function\n",
        "age = 40\n",
        "gender = \"F\"\n",
        "diagnosis = \"Diabetes\"\n",
        "treatment = \"Insulin\"\n",
        "\n",
        "predicted_score = predict_health_score(age, gender, diagnosis, treatment)\n",
        "\n",
        "# Display the prediction result\n",
        "print(f\"Predicted HealthScore for Patient: {predicted_score:.2f}\")\n"
      ],
      "metadata": {
        "colab": {
          "base_uri": "https://localhost:8080/"
        },
        "id": "ZRAlpUpHBdJp",
        "outputId": "4ba14db9-2ab8-45d3-ce20-f9ee677e540e"
      },
      "execution_count": 23,
      "outputs": [
        {
          "output_type": "stream",
          "name": "stdout",
          "text": [
            "Predicted HealthScore for Patient: 70.39\n"
          ]
        }
      ]
    },
    {
      "cell_type": "markdown",
      "source": [
        "Create a Gradio Interface"
      ],
      "metadata": {
        "id": "CjUMVlh3ByJJ"
      }
    },
    {
      "cell_type": "code",
      "source": [
        "import gradio as gr\n",
        "\n",
        "def assess_health_risk(age, bmi, blood_pressure, glucose_level):\n",
        "    risk_score = 0\n",
        "    if age > 50:\n",
        "        risk_score += 1\n",
        "    if bmi > 30:\n",
        "        risk_score += 1\n",
        "    if blood_pressure > 140:\n",
        "        risk_score += 1\n",
        "    if glucose_level > 125:\n",
        "        risk_score += 1\n",
        "\n",
        "    if risk_score >= 3:\n",
        "        return \"High Risk – Please consult a healthcare provider.\"\n",
        "    elif risk_score == 2:\n",
        "        return \"Moderate Risk – Monitor your health closely.\"\n",
        "    else:\n",
        "        return \"Low Risk – Keep up the healthy lifestyle!\"\n",
        "\n",
        "interface = gr.Interface(\n",
        "    fn=assess_health_risk,\n",
        "    inputs=[\n",
        "        gr.Number(label=\"Age\"),\n",
        "        gr.Number(label=\"BMI\"),\n",
        "        gr.Number(label=\"Blood Pressure (systolic)\"),\n",
        "        gr.Number(label=\"Glucose Level (mg/dL)\")\n",
        "    ],\n",
        "    outputs=gr.Textbox(label=\"Health Risk Assessment\"),\n",
        "    title=\"Healthcare Risk Assessment Tool\",\n",
        "    description=\"Enter patient data to assess general health risk. This demo uses simple logic for illustrative purposes.\"\n",
        ")\n",
        "\n",
        "interface.launch()\n"
      ],
      "metadata": {
        "colab": {
          "base_uri": "https://localhost:8080/",
          "height": 646
        },
        "id": "eacpsYx_IzMp",
        "outputId": "fc774bcf-ae56-4e6b-c58a-35fb5bbb423e"
      },
      "execution_count": 32,
      "outputs": [
        {
          "output_type": "stream",
          "name": "stdout",
          "text": [
            "It looks like you are running Gradio on a hosted a Jupyter notebook. For the Gradio app to work, sharing must be enabled. Automatically setting `share=True` (you can turn this off by setting `share=False` in `launch()` explicitly).\n",
            "\n",
            "Colab notebook detected. To show errors in colab notebook, set debug=True in launch()\n",
            "* Running on public URL: https://6aad88592dddb3a325.gradio.live\n",
            "\n",
            "This share link expires in 1 week. For free permanent hosting and GPU upgrades, run `gradio deploy` from the terminal in the working directory to deploy to Hugging Face Spaces (https://huggingface.co/spaces)\n"
          ]
        },
        {
          "output_type": "display_data",
          "data": {
            "text/plain": [
              "<IPython.core.display.HTML object>"
            ],
            "text/html": [
              "<div><iframe src=\"https://6aad88592dddb3a325.gradio.live\" width=\"100%\" height=\"500\" allow=\"autoplay; camera; microphone; clipboard-read; clipboard-write;\" frameborder=\"0\" allowfullscreen></iframe></div>"
            ]
          },
          "metadata": {}
        },
        {
          "output_type": "execute_result",
          "data": {
            "text/plain": []
          },
          "metadata": {},
          "execution_count": 32
        }
      ]
    }
  ],
  "metadata": {
    "colab": {
      "provenance": []
    },
    "kernelspec": {
      "display_name": "Python 3",
      "name": "python3"
    },
    "language_info": {
      "name": "python"
    }
  },
  "nbformat": 4,
  "nbformat_minor": 0
}